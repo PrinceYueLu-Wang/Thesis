{
 "cells": [
  {
   "cell_type": "code",
   "execution_count": 1,
   "source": [
    "from artificial_potential_field import Vector3d"
   ],
   "outputs": [],
   "metadata": {}
  },
  {
   "cell_type": "code",
   "execution_count": 2,
   "source": [
    "a=Vector3d(1,2,3)\n",
    "\n",
    "b=Vector3d(4,5,6)\n"
   ],
   "outputs": [],
   "metadata": {}
  },
  {
   "cell_type": "code",
   "execution_count": 3,
   "source": [
    "a-b"
   ],
   "outputs": [
    {
     "output_type": "execute_result",
     "data": {
      "text/plain": [
       " Vector: \n",
       " deltaX:-3 \n",
       " deltaY:-3 \n",
       " deltaZ:-3 \n",
       " norm : 5.196152422706632 "
      ]
     },
     "metadata": {},
     "execution_count": 3
    }
   ],
   "metadata": {}
  }
 ],
 "metadata": {
  "orig_nbformat": 4,
  "language_info": {
   "name": "python",
   "version": "3.6.13",
   "mimetype": "text/x-python",
   "codemirror_mode": {
    "name": "ipython",
    "version": 3
   },
   "pygments_lexer": "ipython3",
   "nbconvert_exporter": "python",
   "file_extension": ".py"
  },
  "kernelspec": {
   "name": "python3",
   "display_name": "Python 3.6.13 64-bit ('yifei': conda)"
  },
  "interpreter": {
   "hash": "8850d78caf808764a0f9703bf2ee1bfa2d4e8750474c3f04145564308661547f"
  }
 },
 "nbformat": 4,
 "nbformat_minor": 2
}