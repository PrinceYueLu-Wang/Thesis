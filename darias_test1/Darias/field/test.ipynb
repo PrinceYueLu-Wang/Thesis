{
 "cells": [
  {
   "cell_type": "code",
   "execution_count": 1,
   "metadata": {},
   "outputs": [
    {
     "name": "stdout",
     "output_type": "stream",
     "text": [
      "0.0005216598510742188\n"
     ]
    }
   ],
   "source": [
    "import numpy as np\n",
    "import time\n",
    "\n",
    "X = np.random.randn(10,3)\n",
    "Y = np.random.randn(1000,3)\n",
    "start = time.time()\n",
    "# XX = np.einsum('ij,ij->i', X, X)[:, np.newaxis]\n",
    "# YY = np.einsum('ij,ij->i', Y, Y)\n",
    "# XY = 2 * np.dot(X, Y.T)\n",
    "# res1=np.sqrt(XX + YY - XY)\n",
    "\n",
    "# subts = origs[:,None,:] - dests\n",
    "subts = X[:,None,:] - Y\n",
    "res2 = np.sqrt(np.einsum('ijk,ijk->ij',subts,subts))\n",
    "end=time.time()\n",
    "\n",
    "print(end-start)\n"
   ]
  },
  {
   "cell_type": "code",
   "execution_count": null,
   "metadata": {},
   "outputs": [],
   "source": []
  },
  {
   "cell_type": "code",
   "execution_count": 2,
   "metadata": {},
   "outputs": [
    {
     "ename": "TypeError",
     "evalue": "_amax_dispatcher() got an unexpected keyword argument 'axix'",
     "output_type": "error",
     "traceback": [
      "\u001b[0;31m---------------------------------------------------------------------------\u001b[0m",
      "\u001b[0;31mTypeError\u001b[0m                                 Traceback (most recent call last)",
      "\u001b[0;32m<ipython-input-2-452377b74782>\u001b[0m in \u001b[0;36m<module>\u001b[0;34m\u001b[0m\n\u001b[0;32m----> 1\u001b[0;31m \u001b[0mnp\u001b[0m\u001b[0;34m.\u001b[0m\u001b[0mmax\u001b[0m\u001b[0;34m(\u001b[0m\u001b[0mres2\u001b[0m\u001b[0;34m,\u001b[0m\u001b[0maxix\u001b[0m\u001b[0;34m=\u001b[0m\u001b[0;36m1\u001b[0m\u001b[0;34m)\u001b[0m\u001b[0;34m\u001b[0m\u001b[0;34m\u001b[0m\u001b[0m\n\u001b[0m",
      "\u001b[0;32m<__array_function__ internals>\u001b[0m in \u001b[0;36mamax\u001b[0;34m(*args, **kwargs)\u001b[0m\n",
      "\u001b[0;31mTypeError\u001b[0m: _amax_dispatcher() got an unexpected keyword argument 'axix'"
     ]
    }
   ],
   "source": [
    "np.max(res2,axis=1)"
   ]
  },
  {
   "cell_type": "code",
   "execution_count": 39,
   "metadata": {},
   "outputs": [],
   "source": [
    "x=1.0+ np.arange(-5,6)*0.1\n",
    "z=1.42+ np.arange(-5,6)*0.1\n",
    "y=0.54\n",
    "\n",
    "c=np.array(np.meshgrid(x,y,z)).T.reshape(-1,3)"
   ]
  },
  {
   "cell_type": "code",
   "execution_count": 35,
   "metadata": {},
   "outputs": [
    {
     "data": {
      "text/plain": [
       "array([96, 97, 96, 99])"
      ]
     },
     "execution_count": 35,
     "metadata": {},
     "output_type": "execute_result"
    }
   ],
   "source": [
    "a= np.random.randint(low=0,high=100,size=100)\n",
    "a[np.argpartition(a,-4)[-4:]]\n"
   ]
  },
  {
   "cell_type": "code",
   "execution_count": 28,
   "metadata": {},
   "outputs": [
    {
     "data": {
      "text/plain": [
       "array([7, 8, 5, 9, 4, 9, 8, 4, 0, 9])"
      ]
     },
     "execution_count": 28,
     "metadata": {},
     "output_type": "execute_result"
    }
   ],
   "source": [
    "a"
   ]
  },
  {
   "cell_type": "code",
   "execution_count": 27,
   "metadata": {},
   "outputs": [
    {
     "data": {
      "text/plain": [
       "array([8, 9, 9, 9])"
      ]
     },
     "execution_count": 27,
     "metadata": {},
     "output_type": "execute_result"
    }
   ],
   "source": [
    "a[np.argpartition(a,-4)[-4:]]\n"
   ]
  },
  {
   "cell_type": "code",
   "execution_count": 63,
   "metadata": {},
   "outputs": [
    {
     "data": {
      "text/plain": [
       "array([[ 4, 10,  2, 19,  9,  7,  4,  2],\n",
       "       [ 9, 19, 16, 14,  2,  7, 17,  2],\n",
       "       [ 4, 16, 10,  6, 18,  4, 19, 14],\n",
       "       [ 3, 19, 14, 12,  9,  9,  2, 19],\n",
       "       [17,  3, 10,  1, 14, 19, 13,  2],\n",
       "       [ 7,  0,  0, 12,  6,  9, 19, 14],\n",
       "       [13,  0, 19, 11, 16, 14, 10, 10],\n",
       "       [10, 15,  3, 18,  0,  9,  7, 19],\n",
       "       [ 2, 11, 19, 18, 10, 10,  2, 16],\n",
       "       [ 5,  2,  2, 17, 13,  7, 14,  1],\n",
       "       [12, 17, 18,  6, 11,  5,  3,  8],\n",
       "       [ 7,  1,  3, 15,  5, 16,  4, 13],\n",
       "       [ 3, 16, 15,  2,  3,  1, 13,  5],\n",
       "       [13, 15, 19, 14,  7,  9,  2,  9],\n",
       "       [13, 15,  9,  7, 13, 15, 15,  5],\n",
       "       [14,  3,  6,  6, 18,  1, 16, 10],\n",
       "       [ 6, 14,  0, 10,  9,  0, 16, 14],\n",
       "       [16, 13,  3,  5, 10, 18,  5, 14],\n",
       "       [17,  7,  4, 16, 16,  0, 19,  8],\n",
       "       [10, 10,  0,  4, 11,  6,  0,  3]])"
      ]
     },
     "execution_count": 63,
     "metadata": {},
     "output_type": "execute_result"
    }
   ],
   "source": [
    "a= np.random.randint(low=0,high=20,size=160).reshape(20,8)\n",
    "a"
   ]
  },
  {
   "cell_type": "code",
   "execution_count": 65,
   "metadata": {},
   "outputs": [],
   "source": [
    "idx=np.argpartition(a,3)[:,:3]"
   ]
  },
  {
   "cell_type": "code",
   "execution_count": 48,
   "metadata": {},
   "outputs": [
    {
     "data": {
      "text/plain": [
       "array([ 0,  7, 10, 11, 17, 18])"
      ]
     },
     "execution_count": 48,
     "metadata": {},
     "output_type": "execute_result"
    }
   ],
   "source": [
    "np.argwhere(a>10).reshape(-1)"
   ]
  },
  {
   "cell_type": "code",
   "execution_count": 100,
   "metadata": {},
   "outputs": [],
   "source": [
    "a= np.random.randint(low=0,high=20,size=(4,4))\n",
    "b= [1,2,3,4] "
   ]
  },
  {
   "cell_type": "code",
   "execution_count": 3,
   "metadata": {},
   "outputs": [],
   "source": [
    "a=np.array([ 0,  7, 10, 11, 17, 18])"
   ]
  },
  {
   "cell_type": "code",
   "execution_count": 12,
   "metadata": {},
   "outputs": [
    {
     "data": {
      "text/plain": [
       "(6,)"
      ]
     },
     "execution_count": 12,
     "metadata": {},
     "output_type": "execute_result"
    }
   ],
   "source": [
    "b=a.reshape(2,3)\n",
    "b=b.reshape(6,)\n",
    "b.shape"
   ]
  },
  {
   "cell_type": "code",
   "execution_count": 9,
   "metadata": {},
   "outputs": [
    {
     "data": {
      "text/plain": [
       "array([ 0,  7, 10, 11, 17, 18])"
      ]
     },
     "execution_count": 9,
     "metadata": {},
     "output_type": "execute_result"
    }
   ],
   "source": [
    "b=b.reshape(6,)"
   ]
  },
  {
   "cell_type": "code",
   "execution_count": 10,
   "metadata": {},
   "outputs": [
    {
     "data": {
      "text/plain": [
       "array([[ 0,  7, 10],\n",
       "       [11, 17, 18]])"
      ]
     },
     "execution_count": 10,
     "metadata": {},
     "output_type": "execute_result"
    }
   ],
   "source": [
    "b"
   ]
  }
 ],
 "metadata": {
  "interpreter": {
   "hash": "a0c77963700c985b111364ce2c55de59a02fb96055f7c0a77dafac72997b811c"
  },
  "kernelspec": {
   "display_name": "Python 3.8.8 64-bit ('base': conda)",
   "name": "python3"
  },
  "language_info": {
   "codemirror_mode": {
    "name": "ipython",
    "version": 3
   },
   "file_extension": ".py",
   "mimetype": "text/x-python",
   "name": "python",
   "nbconvert_exporter": "python",
   "pygments_lexer": "ipython3",
   "version": "3.8.8"
  },
  "orig_nbformat": 4
 },
 "nbformat": 4,
 "nbformat_minor": 2
}
