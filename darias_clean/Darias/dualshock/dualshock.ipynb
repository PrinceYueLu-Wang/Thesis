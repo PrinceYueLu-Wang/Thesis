{
 "cells": [
  {
   "cell_type": "code",
   "execution_count": 1,
   "source": [
    "import pygame\n",
    "import time\n",
    "pygame.init()\n",
    "pygame.joystick.init()\n",
    "pygame.joystick.get_count()\n",
    "\n"
   ],
   "outputs": [
    {
     "output_type": "stream",
     "name": "stdout",
     "text": [
      "pygame 2.0.1 (SDL 2.0.14, Python 3.6.13)\n",
      "Hello from the pygame community. https://www.pygame.org/contribute.html\n"
     ]
    },
    {
     "output_type": "execute_result",
     "data": {
      "text/plain": [
       "1"
      ]
     },
     "metadata": {},
     "execution_count": 1
    }
   ],
   "metadata": {}
  },
  {
   "cell_type": "code",
   "execution_count": 4,
   "source": [
    "WHITE =     (255, 255, 255)\n",
    "BLUE =      (  0,   0, 255)\n",
    "GREEN =     (  0, 255,   0)\n",
    "RED =       (255,   0,   0)\n",
    "TEXTCOLOR = (  0,   0,  0)\n",
    "(width, height) = (200, 300)\n",
    "screen = pygame.display.set_mode((width, height))\n",
    "pygame.display.set_caption(\"TUFF\")\n",
    "screen.fill(WHITE)\n",
    "pygame.display.update()\n",
    "joystick = pygame.joystick.Joystick(0)\n",
    "joystick.init()"
   ],
   "outputs": [],
   "metadata": {}
  },
  {
   "cell_type": "code",
   "execution_count": 9,
   "source": [
    "while True:\n",
    "     axis = joystick.get_axis(0 )\n",
    "     print(axis)\n",
    "     time.sleep(0.2)"
   ],
   "outputs": [
    {
     "output_type": "stream",
     "name": "stdout",
     "text": [
      "-0.0274658203125\n"
     ]
    },
    {
     "output_type": "error",
     "ename": "NameError",
     "evalue": "name 'time' is not defined",
     "traceback": [
      "\u001b[0;31m---------------------------------------------------------------------------\u001b[0m",
      "\u001b[0;31mNameError\u001b[0m                                 Traceback (most recent call last)",
      "\u001b[0;32m<ipython-input-9-ac6c155c1f84>\u001b[0m in \u001b[0;36m<module>\u001b[0;34m\u001b[0m\n\u001b[1;32m      2\u001b[0m      \u001b[0maxis\u001b[0m \u001b[0;34m=\u001b[0m \u001b[0mjoystick\u001b[0m\u001b[0;34m.\u001b[0m\u001b[0mget_axis\u001b[0m\u001b[0;34m(\u001b[0m\u001b[0;36m0\u001b[0m \u001b[0;34m)\u001b[0m\u001b[0;34m\u001b[0m\u001b[0;34m\u001b[0m\u001b[0m\n\u001b[1;32m      3\u001b[0m      \u001b[0mprint\u001b[0m\u001b[0;34m(\u001b[0m\u001b[0maxis\u001b[0m\u001b[0;34m)\u001b[0m\u001b[0;34m\u001b[0m\u001b[0;34m\u001b[0m\u001b[0m\n\u001b[0;32m----> 4\u001b[0;31m      \u001b[0mtime\u001b[0m\u001b[0;34m.\u001b[0m\u001b[0msleep\u001b[0m\u001b[0;34m(\u001b[0m\u001b[0;36m0.2\u001b[0m\u001b[0;34m)\u001b[0m\u001b[0;34m\u001b[0m\u001b[0;34m\u001b[0m\u001b[0m\n\u001b[0m",
      "\u001b[0;31mNameError\u001b[0m: name 'time' is not defined"
     ]
    }
   ],
   "metadata": {}
  },
  {
   "cell_type": "code",
   "execution_count": 20,
   "source": [
    "button_dict={'2':\"up\",\"0\":\"down\"}\n",
    "x=0\n",
    "\n",
    "if button_dict[str(x)]==\"up\":\n",
    "    print(\"up is pressed !\")\n",
    "elif button_dict[str(x)] == \"down\":\n",
    "    print(\"down is pressed !\") "
   ],
   "outputs": [
    {
     "output_type": "stream",
     "name": "stdout",
     "text": [
      "down is pressed !\n"
     ]
    }
   ],
   "metadata": {}
  },
  {
   "cell_type": "code",
   "execution_count": 23,
   "source": [
    "button_dict.__contains__(\"up\")"
   ],
   "outputs": [
    {
     "output_type": "execute_result",
     "data": {
      "text/plain": [
       "False"
      ]
     },
     "metadata": {},
     "execution_count": 23
    }
   ],
   "metadata": {}
  },
  {
   "cell_type": "code",
   "execution_count": null,
   "source": [],
   "outputs": [],
   "metadata": {}
  },
  {
   "cell_type": "code",
   "execution_count": 20,
   "source": [
    "from time import sleep"
   ],
   "outputs": [],
   "metadata": {}
  },
  {
   "cell_type": "code",
   "execution_count": 22,
   "source": [
    "while(True):\n",
    "    joystick_count = pygame.joystick.get_count()\n",
    "    # print(joystick_count)\n",
    "    joystick = pygame.joystick.Joystick(0)\n",
    "    joystick.init()\n",
    "\n",
    "    hat = joystick.get_hat(0)\n",
    "    print(\"Hat {} value: {}\".format(1, str(hat)) )\n",
    "\n",
    "    sleep(1)\n"
   ],
   "outputs": [
    {
     "output_type": "stream",
     "name": "stdout",
     "text": [
      "Hat 1 value: (0, 0)\n",
      "Hat 1 value: (0, 0)\n",
      "Hat 1 value: (0, 0)\n",
      "Hat 1 value: (0, 0)\n",
      "Hat 1 value: (0, 0)\n",
      "Hat 1 value: (0, 0)\n",
      "Hat 1 value: (0, 0)\n",
      "Hat 1 value: (0, 0)\n",
      "Hat 1 value: (0, 0)\n",
      "Hat 1 value: (0, 0)\n",
      "Hat 1 value: (0, 0)\n",
      "Hat 1 value: (0, 0)\n",
      "Hat 1 value: (0, 0)\n",
      "Hat 1 value: (0, 0)\n",
      "Hat 1 value: (0, 0)\n",
      "Hat 1 value: (0, 0)\n",
      "Hat 1 value: (0, 0)\n",
      "Hat 1 value: (0, 0)\n",
      "Hat 1 value: (0, 0)\n",
      "Hat 1 value: (0, 0)\n",
      "Hat 1 value: (0, 0)\n",
      "Hat 1 value: (0, 0)\n",
      "Hat 1 value: (0, 0)\n",
      "Hat 1 value: (0, 0)\n",
      "Hat 1 value: (0, 0)\n",
      "Hat 1 value: (0, 0)\n",
      "Hat 1 value: (0, 0)\n",
      "Hat 1 value: (0, 0)\n",
      "Hat 1 value: (0, 0)\n",
      "Hat 1 value: (0, 0)\n",
      "Hat 1 value: (0, 0)\n",
      "Hat 1 value: (0, 0)\n",
      "Hat 1 value: (0, 0)\n",
      "Hat 1 value: (0, 0)\n",
      "Hat 1 value: (0, 0)\n",
      "Hat 1 value: (0, 0)\n",
      "Hat 1 value: (0, 0)\n",
      "Hat 1 value: (0, 0)\n"
     ]
    },
    {
     "output_type": "error",
     "ename": "KeyboardInterrupt",
     "evalue": "",
     "traceback": [
      "\u001b[0;31m---------------------------------------------------------------------------\u001b[0m",
      "\u001b[0;31mKeyboardInterrupt\u001b[0m                         Traceback (most recent call last)",
      "\u001b[0;32m<ipython-input-22-1417d2155a08>\u001b[0m in \u001b[0;36m<module>\u001b[0;34m\u001b[0m\n\u001b[1;32m      8\u001b[0m     \u001b[0mprint\u001b[0m\u001b[0;34m(\u001b[0m\u001b[0;34m\"Hat {} value: {}\"\u001b[0m\u001b[0;34m.\u001b[0m\u001b[0mformat\u001b[0m\u001b[0;34m(\u001b[0m\u001b[0;36m1\u001b[0m\u001b[0;34m,\u001b[0m \u001b[0mstr\u001b[0m\u001b[0;34m(\u001b[0m\u001b[0mhat\u001b[0m\u001b[0;34m)\u001b[0m\u001b[0;34m)\u001b[0m \u001b[0;34m)\u001b[0m\u001b[0;34m\u001b[0m\u001b[0;34m\u001b[0m\u001b[0m\n\u001b[1;32m      9\u001b[0m \u001b[0;34m\u001b[0m\u001b[0m\n\u001b[0;32m---> 10\u001b[0;31m     \u001b[0msleep\u001b[0m\u001b[0;34m(\u001b[0m\u001b[0;36m0.5\u001b[0m\u001b[0;34m)\u001b[0m\u001b[0;34m\u001b[0m\u001b[0;34m\u001b[0m\u001b[0m\n\u001b[0m",
      "\u001b[0;31mKeyboardInterrupt\u001b[0m: "
     ]
    }
   ],
   "metadata": {}
  }
 ],
 "metadata": {
  "orig_nbformat": 4,
  "language_info": {
   "name": "python",
   "version": "3.6.13",
   "mimetype": "text/x-python",
   "codemirror_mode": {
    "name": "ipython",
    "version": 3
   },
   "pygments_lexer": "ipython3",
   "nbconvert_exporter": "python",
   "file_extension": ".py"
  },
  "kernelspec": {
   "name": "python3",
   "display_name": "Python 3.6.13 64-bit ('yifei': conda)"
  },
  "interpreter": {
   "hash": "8850d78caf808764a0f9703bf2ee1bfa2d4e8750474c3f04145564308661547f"
  }
 },
 "nbformat": 4,
 "nbformat_minor": 2
}