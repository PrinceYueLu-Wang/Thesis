{
 "cells": [
  {
   "cell_type": "code",
   "execution_count": 2,
   "source": [
    "import pygame\n",
    "pygame.init()\n",
    "pygame.joystick.init()\n",
    "pygame.joystick.get_count()\n",
    "\n"
   ],
   "outputs": [
    {
     "output_type": "execute_result",
     "data": {
      "text/plain": [
       "1"
      ]
     },
     "metadata": {},
     "execution_count": 2
    }
   ],
   "metadata": {}
  },
  {
   "cell_type": "code",
   "execution_count": 20,
   "source": [
    "from time import sleep"
   ],
   "outputs": [],
   "metadata": {}
  },
  {
   "cell_type": "code",
   "execution_count": 22,
   "source": [
    "while(True):\n",
    "    joystick_count = pygame.joystick.get_count()\n",
    "    # print(joystick_count)\n",
    "    joystick = pygame.joystick.Joystick(0)\n",
    "    joystick.init()\n",
    "\n",
    "    hat = joystick.get_hat(0)\n",
    "    print(\"Hat {} value: {}\".format(1, str(hat)) )\n",
    "\n",
    "    sleep(1)\n"
   ],
   "outputs": [
    {
     "output_type": "stream",
     "name": "stdout",
     "text": [
      "Hat 1 value: (0, 0)\n",
      "Hat 1 value: (0, 0)\n",
      "Hat 1 value: (0, 0)\n",
      "Hat 1 value: (0, 0)\n",
      "Hat 1 value: (0, 0)\n",
      "Hat 1 value: (0, 0)\n",
      "Hat 1 value: (0, 0)\n",
      "Hat 1 value: (0, 0)\n",
      "Hat 1 value: (0, 0)\n",
      "Hat 1 value: (0, 0)\n",
      "Hat 1 value: (0, 0)\n",
      "Hat 1 value: (0, 0)\n",
      "Hat 1 value: (0, 0)\n",
      "Hat 1 value: (0, 0)\n",
      "Hat 1 value: (0, 0)\n",
      "Hat 1 value: (0, 0)\n",
      "Hat 1 value: (0, 0)\n",
      "Hat 1 value: (0, 0)\n",
      "Hat 1 value: (0, 0)\n",
      "Hat 1 value: (0, 0)\n",
      "Hat 1 value: (0, 0)\n",
      "Hat 1 value: (0, 0)\n",
      "Hat 1 value: (0, 0)\n",
      "Hat 1 value: (0, 0)\n",
      "Hat 1 value: (0, 0)\n",
      "Hat 1 value: (0, 0)\n",
      "Hat 1 value: (0, 0)\n",
      "Hat 1 value: (0, 0)\n",
      "Hat 1 value: (0, 0)\n",
      "Hat 1 value: (0, 0)\n",
      "Hat 1 value: (0, 0)\n",
      "Hat 1 value: (0, 0)\n",
      "Hat 1 value: (0, 0)\n",
      "Hat 1 value: (0, 0)\n",
      "Hat 1 value: (0, 0)\n",
      "Hat 1 value: (0, 0)\n",
      "Hat 1 value: (0, 0)\n",
      "Hat 1 value: (0, 0)\n"
     ]
    },
    {
     "output_type": "error",
     "ename": "KeyboardInterrupt",
     "evalue": "",
     "traceback": [
      "\u001b[0;31m---------------------------------------------------------------------------\u001b[0m",
      "\u001b[0;31mKeyboardInterrupt\u001b[0m                         Traceback (most recent call last)",
      "\u001b[0;32m<ipython-input-22-1417d2155a08>\u001b[0m in \u001b[0;36m<module>\u001b[0;34m\u001b[0m\n\u001b[1;32m      8\u001b[0m     \u001b[0mprint\u001b[0m\u001b[0;34m(\u001b[0m\u001b[0;34m\"Hat {} value: {}\"\u001b[0m\u001b[0;34m.\u001b[0m\u001b[0mformat\u001b[0m\u001b[0;34m(\u001b[0m\u001b[0;36m1\u001b[0m\u001b[0;34m,\u001b[0m \u001b[0mstr\u001b[0m\u001b[0;34m(\u001b[0m\u001b[0mhat\u001b[0m\u001b[0;34m)\u001b[0m\u001b[0;34m)\u001b[0m \u001b[0;34m)\u001b[0m\u001b[0;34m\u001b[0m\u001b[0;34m\u001b[0m\u001b[0m\n\u001b[1;32m      9\u001b[0m \u001b[0;34m\u001b[0m\u001b[0m\n\u001b[0;32m---> 10\u001b[0;31m     \u001b[0msleep\u001b[0m\u001b[0;34m(\u001b[0m\u001b[0;36m0.5\u001b[0m\u001b[0;34m)\u001b[0m\u001b[0;34m\u001b[0m\u001b[0;34m\u001b[0m\u001b[0m\n\u001b[0m",
      "\u001b[0;31mKeyboardInterrupt\u001b[0m: "
     ]
    }
   ],
   "metadata": {}
  }
 ],
 "metadata": {
  "orig_nbformat": 4,
  "language_info": {
   "name": "python",
   "version": "3.6.13",
   "mimetype": "text/x-python",
   "codemirror_mode": {
    "name": "ipython",
    "version": 3
   },
   "pygments_lexer": "ipython3",
   "nbconvert_exporter": "python",
   "file_extension": ".py"
  },
  "kernelspec": {
   "name": "python3",
   "display_name": "Python 3.6.13 64-bit ('yifei': conda)"
  },
  "interpreter": {
   "hash": "8850d78caf808764a0f9703bf2ee1bfa2d4e8750474c3f04145564308661547f"
  }
 },
 "nbformat": 4,
 "nbformat_minor": 2
}